{
 "cells": [
  {
   "cell_type": "markdown",
   "metadata": {},
   "source": [
    "Combining all three"
   ]
  },
  {
   "cell_type": "code",
   "execution_count": 4,
   "metadata": {},
   "outputs": [],
   "source": [
    "import numpy as np\n",
    "from qiskit import *\n",
    "from qiskit_ibm_runtime import QiskitRuntimeService\n",
    "from ExperimentClass import Experiment\n",
    "import json\n",
    "import sys\n",
    "import os"
   ]
  },
  {
   "cell_type": "code",
   "execution_count": null,
   "metadata": {},
   "outputs": [],
   "source": [
    "service = QiskitRuntimeService(channel=\"ibm_quantum\", \n",
    "                                  token=\"<Your-Token-goes-here>\")\n",
    "backend = service.backend(\"ibm_brisbane\")"
   ]
  },
  {
   "cell_type": "code",
   "execution_count": 5,
   "metadata": {},
   "outputs": [],
   "source": [
    "# Configuration file name\n",
    "CONFIG_FILE = \"config.json\"\n",
    "\n",
    "# Default configuration template\n",
    "DEFAULT_CONFIG = {\n",
    "    \"numOfAttacks\": None,\n",
    "    \"initialLayout\": None,\n",
    "    \"initialLayoutWithBuffer\": None,\n",
    "    \"initialState\": None,\n",
    "    \"ddSequenceType\": None\n",
    "}\n",
    "\n",
    "def create_config(file_path):\n",
    "    \"\"\"Create a config file with expected keys set to None if it doesn't exist.\"\"\"\n",
    "    with open(file_path, \"w\") as file:\n",
    "        json.dump(DEFAULT_CONFIG, file, indent=4)\n",
    "    print(f\"Configuration file '{file_path}' was missing and has been created.\")\n",
    "    print(\"Please update it with appropriate values before running the script again.\")\n",
    "    sys.exit(1)\n",
    "\n",
    "def load_config(file_path):\n",
    "    \"\"\"Load configuration from a JSON file, or create it if missing.\"\"\"\n",
    "    if not os.path.exists(file_path):\n",
    "        create_config(file_path)\n",
    "\n",
    "    try:\n",
    "        with open(file_path, \"r\") as file:\n",
    "            config = json.load(file)\n",
    "    except json.JSONDecodeError:\n",
    "        print(f\"Error: Invalid JSON format in '{file_path}'. Please check your file.\")\n",
    "        sys.exit(1)\n",
    "    \n",
    "    return config\n",
    "\n",
    "def validate_config(config):\n",
    "    \"\"\"Validate the configuration parameters.\"\"\"\n",
    "    for key in DEFAULT_CONFIG.keys():\n",
    "        if key not in config or config[key] is None:\n",
    "            print(f\"Error: Missing or null value for '{key}' in '{CONFIG_FILE}'.\")\n",
    "            print(\"Please update the config file and re-run the script.\")\n",
    "            sys.exit(1)\n",
    "    \n",
    "    numOfAttacks = config[\"numOfAttacks\"]\n",
    "    if not isinstance(numOfAttacks, int) or numOfAttacks < 1:\n",
    "        print(\"Error: 'numOfAttacks' must be a positive integer (at least 1).\")\n",
    "        sys.exit(1)\n",
    "\n",
    "    numQubits = 3 + numOfAttacks * 2\n",
    "    expectedBufferQubits = 3 + numOfAttacks * 3\n",
    "\n",
    "    if not isinstance(config['initialLayout'],list):\n",
    "        print(f\"Error: 'initialLayout' must be an array.\")\n",
    "        sys.exit(1)\n",
    "    elif len(config[\"initialLayout\"]) != numQubits:\n",
    "        print(f\"Error: 'initialLayout' must contain {numQubits} qubits but found {len(config['initialLayout'])}.\")\n",
    "        sys.exit(1)\n",
    "    \n",
    "    if not isinstance(config['initialLayoutWithBuffer'],list):\n",
    "        print(f\"Error: 'initialLayoutWithBuffer' must be an array.\")\n",
    "        sys.exit(1)\n",
    "    elif len(config[\"initialLayoutWithBuffer\"]) != expectedBufferQubits:\n",
    "        print(f\"Error: 'initialLayoutWithBuffer' must contain {expectedBufferQubits} qubits but found {len(config['initialLayoutWithBuffer'])}.\")\n",
    "        sys.exit(1)\n",
    "\n",
    "    if config[\"initialState\"] not in [0, 1, 2]:\n",
    "        print(\"Error: 'initialState' must be 0 (|0>), 1 (|1>), or 2 (|+>).\")\n",
    "        sys.exit(1)\n",
    "\n",
    "    if config[\"ddSequenceType\"] not in [0, 1]:\n",
    "        print(\"Error: 'ddSequenceType' must be 0 (XYXY) or 1 (XX).\")\n",
    "        sys.exit(1)"
   ]
  },
  {
   "cell_type": "code",
   "execution_count": null,
   "metadata": {},
   "outputs": [
    {
     "name": "stdout",
     "output_type": "stream",
     "text": [
      "Loading experiment configuration...\n",
      "\n",
      "Configuration Loaded Successfully!\n",
      "Total Number of Attacks: 3\n",
      "Initial Layout (without buffer): [4, 3, 5, 2, 1, 6, 7, 15, 22]\n",
      "Initial Layout (with buffer): [4, 3, 5, 2, 1, 0, 6, 7, 8, 15, 22, 23]\n",
      "Initial State of Control Qubit: 0\n",
      "DD Sequence Type: 0\n"
     ]
    }
   ],
   "source": [
    "# Load and validate configuration file\n",
    "print(\"Loading experiment configuration...\")\n",
    "config = load_config(CONFIG_FILE)\n",
    "validate_config(config)\n",
    "\n",
    "# Display loaded configuration parameters\n",
    "print(\"\\nConfiguration Loaded Successfully!\")\n",
    "print(f\"Total Number of Attacks: {config['numOfAttacks']}\")\n",
    "print(f\"Initial Layout (without buffer): {config['initialLayout']}\")\n",
    "print(f\"Initial Layout (with buffer): {config['initialLayoutWithBuffer']}\")\n",
    "print(f\"Initial State of Control Qubit: {config['initialState']}\")\n",
    "print(f\"DD Sequence Type: {config['ddSequenceType']}\")"
   ]
  },
  {
   "cell_type": "code",
   "execution_count": null,
   "metadata": {},
   "outputs": [
    {
     "name": "stdout",
     "output_type": "stream",
     "text": [
      "Add circuits for No Attack scenario\n",
      "Circuits for No Attack scenario added.\n",
      "Add circuits for No Attack with DD Scenario\n",
      "Circuits for No Attack with DD Scenario added.\n",
      "Add circuits for Attack without Mitigation Scenario\n",
      "Circuits for Attack without Mitigation Scenario added.\n",
      "Add circuits for Attack with DD Scenario\n",
      "Circuits for Attack with DD Scenario added.\n",
      "Add circuits for Attack with Spacing Scenario\n",
      "Circuits for Attack with Spacing Scenario added.\n",
      "Add circuits for Attack with DD and Spacing Scenario\n",
      "Circuits for Attack with DD and Spacing Scenario added.\n"
     ]
    }
   ],
   "source": [
    "# Initialize Experiment with required parameters\n",
    "numQubits = config['numOfAttacks'] * 2 + 3\n",
    "experiment = Experiment(numQubits,\n",
    "                        config['initialLayout'],\n",
    "                        config['initialLayoutWithBuffer'],\n",
    "                        backend,\n",
    "                        config['initialState'],\n",
    "                        config['ddSequenceType'])\n",
    "\n",
    "# Define scenarios to be tested\n",
    "scenarios = [\n",
    "        (\"No Attack scenario\", experiment.addNoAttackCircuit),\n",
    "        (\"No Attack with DD Scenario\", experiment.addNoAttackPlusDDCircuit),\n",
    "        (\"Attack without Mitigation Scenario\", experiment.addAttackWithoutMitigationCircuits),\n",
    "        (\"Attack with DD Scenario\", experiment.addAttackWithDDCircuits),\n",
    "        (\"Attack with Spacing Scenario\", experiment.addAttackWithSpacingCircuits),\n",
    "        (\"Attack with DD and Spacing Scenario\", experiment.addAttackWithDDAndSpacingCircuits)\n",
    "    ]\n",
    "\n",
    "# Loop through scenarios based on user input\n",
    "for scenario_name, scenario_func in scenarios:\n",
    "    choice = input(f\"Do you want to test code for {scenario_name}? Yes or No: \").strip().lower()\n",
    "    if choice == \"yes\":\n",
    "        print(f\"Add circuits for {scenario_name}\")\n",
    "        scenario_func()\n",
    "        print(f\"Circuits for {scenario_name} added.\")\n",
    "    elif choice == \"no\":\n",
    "        print(f\"Skipping {scenario_name}...\")\n",
    "    else:\n",
    "        print(\"Invalid input! Skipping...\")"
   ]
  },
  {
   "cell_type": "code",
   "execution_count": null,
   "metadata": {},
   "outputs": [],
   "source": [
    "# Run all experiments and collect results\n",
    "experiment.runAllCircuits()"
   ]
  },
  {
   "cell_type": "code",
   "execution_count": null,
   "metadata": {},
   "outputs": [],
   "source": [
    "# Calculate and retrieve values of fidelities\n",
    "experiment.calculateFidelityOfDataQubits()\n",
    "fidelities = experiment.getFidelities()"
   ]
  },
  {
   "cell_type": "code",
   "execution_count": null,
   "metadata": {},
   "outputs": [],
   "source": [
    "# Plot the results\n",
    "# Modify the plots according to the experiment scenarios selected.\n",
    "import matplotlib.pyplot as plt\n",
    "\n",
    "x = range(45)\n",
    "\n",
    "plt.figure(figsize=(8, 6))\n",
    "\n",
    "plt.scatter(range(1), fidelities[0], linestyle='-', color='teal', label=\"Free Evolution\")\n",
    "plt.scatter(range(1), fidelities[1], linestyle='-', color='orange', label=\"No Attack + DD\")\n",
    "plt.plot(x, fidelities[2:47], linestyle='-', color='green', label=\"Attack without Mitigation\")\n",
    "plt.plot(x, fidelities[47:92], linestyle='-', color='blue', label=\"Attack + DD\")\n",
    "plt.plot(x, fidelities[92:137], linestyle='-', color='magenta', label=\"Attack + Spacing\")\n",
    "plt.plot(x, fidelities[137:182], linestyle='-', color='brown', label=\"Attack + Spacing & DD\")\n",
    "\n",
    "plt.title('Line Chart of Given Data')\n",
    "plt.xlabel('X-axis')\n",
    "plt.ylabel('Y-axis')\n",
    "plt.grid(True)\n",
    "plt.legend()\n",
    "plt.show()"
   ]
  },
  {
   "cell_type": "code",
   "execution_count": null,
   "metadata": {},
   "outputs": [],
   "source": [
    "# Write experiment raw result (counts) to an external file for later reference\n",
    "def append_to_json_file(file_path, new_data):\n",
    "    \"\"\" Open the file in append mode \"\"\"\n",
    "    with open(file_path, 'a') as file:\n",
    "        \"\"\" Serialize the new data to a JSON formatted string \"\"\"\n",
    "        json_data = json.dumps(new_data)\n",
    "        \"\"\" Write the JSON data to the file, followed by a newline \"\"\"\n",
    "        file.write(json_data + '\\n')\n",
    "\n",
    "if len(experiment.getResult()):\n",
    "    \"\"\" Append the new data to the file \"\"\"\n",
    "    append_to_json_file('ExperimentResult_Count.json', experiment.getResult())\n",
    "\n",
    "if len(fidelities):\n",
    "    \"\"\" Append the new data to the file \"\"\"\n",
    "    append_to_json_file('ExperimentResult_Fidelities.json', fidelities)"
   ]
  }
 ],
 "metadata": {
  "kernelspec": {
   "display_name": "QISKIT",
   "language": "python",
   "name": "python3"
  },
  "language_info": {
   "codemirror_mode": {
    "name": "ipython",
    "version": 3
   },
   "file_extension": ".py",
   "mimetype": "text/x-python",
   "name": "python",
   "nbconvert_exporter": "python",
   "pygments_lexer": "ipython3",
   "version": "3.12.3"
  }
 },
 "nbformat": 4,
 "nbformat_minor": 2
}
